{
 "cells": [
  {
   "cell_type": "code",
   "execution_count": 1,
   "metadata": {},
   "outputs": [],
   "source": [
    "import requests\n",
    "from bs4 import BeautifulSoup"
   ]
  },
  {
   "cell_type": "code",
   "execution_count": 2,
   "metadata": {},
   "outputs": [],
   "source": [
    "\n",
    "url = 'https://www.fabhotels.com/blog/places-to-visit-in-jaipur/'"
   ]
  },
  {
   "cell_type": "code",
   "execution_count": 3,
   "metadata": {},
   "outputs": [],
   "source": [
    "header = {\n",
    "    'User-Agent': 'Mozilla/5.0 (Windows NT 10.0; Win64; x64) AppleWebKit/537.36 (KHTML, like Gecko) Chrome/91.0.4472.77 Safari/537.36',\n",
    "    'Accept': 'text/html,application/xhtml+xml,application/xml;q=0.9,image/avif,image/webp,image/apng,*/*;q=0.8,application/signed-exchange;v=b3;q=0.9',\n",
    "}"
   ]
  },
  {
   "cell_type": "code",
   "execution_count": 4,
   "metadata": {},
   "outputs": [],
   "source": [
    "r = requests.get(url, headers = header)\n"
   ]
  },
  {
   "cell_type": "code",
   "execution_count": 5,
   "metadata": {},
   "outputs": [
    {
     "data": {
      "text/plain": [
       "200"
      ]
     },
     "execution_count": 5,
     "metadata": {},
     "output_type": "execute_result"
    }
   ],
   "source": [
    "r.status_code\n"
   ]
  },
  {
   "cell_type": "code",
   "execution_count": 6,
   "metadata": {},
   "outputs": [],
   "source": [
    "text = r.text\n",
    "soup  =BeautifulSoup(text,'html.parser')"
   ]
  },
  {
   "cell_type": "code",
   "execution_count": 7,
   "metadata": {},
   "outputs": [
    {
     "data": {
      "text/plain": [
       "[<h3 id=\"Amber-Fort-and-Palace\">1. Amber Fort and Palace, Jaipur</h3>,\n",
       " <h3 id=\"Nahargarh-Fort\">2. Nahargarh Fort, Jaipur</h3>,\n",
       " <h3 id=\"Jaigarh-Fort\">3. Jaigarh Fort, Jaipur</h3>,\n",
       " <h3 id=\"City-Palace\">4. City Palace, Jaipur</h3>,\n",
       " <h3 id=\"Hawa-Mahal\">5. Hawa Mahal, Jaipur</h3>,\n",
       " <h3 id=\"Jantar-Mantar\">6. Jantar Mantar, Jaipur</h3>,\n",
       " <h3 id=\"Jal-Mahal\">7. Jal Mahal, Jaipur</h3>,\n",
       " <h3 id=\"Albert-Hall-Museum\">8. Albert Hall Museum, Jaipur</h3>,\n",
       " <h3 id=\"Rambagh-Palace\">9. Rambagh Palace, Jaipur</h3>,\n",
       " <h3 id=\"Sisodia-Rani-Ka-Bagh\">10. Sisodia Rani Ka Bagh, Jaipur</h3>,\n",
       " <h3 id=\"Amar-Jawan-Jyoti\">11. Amar Jawan Jyoti, Jaipur</h3>,\n",
       " <h3 id=\"Jaipur-Zoo\">12. Jaipur Zoo</h3>,\n",
       " <h3 id=\"Chokhi-Dhani\">13. Chokhi Dhani, Jaipur</h3>,\n",
       " <h3 id=\"Birla-Mandir\">14. Birla Mandir, Jaipur</h3>,\n",
       " <h3 id=\"Central-Park\">15. Central Park, Jaipur</h3>,\n",
       " <h3 id=\"Galtaji-Temple\">16. Galtaji Temple, Jaipur</h3>,\n",
       " <h3 id=\"Govind-Dev-Ji-Temple\">17. Govind Dev Ji Temple, Jaipur</h3>,\n",
       " <h3 id=\"Raj-Mandir-Cinema\">18. Raj Mandir Cinema, Jaipur</h3>,\n",
       " <h3 id=\"Jaipur-Wax-Museum\">19. Jaipur Wax Museum, Jaipur</h3>,\n",
       " <h3 id=\"Dolls-Museum\">20. Dolls Museum, Jaipur</h3>,\n",
       " <h3 id=\"Anokhi-Museum-of-Hand-Printing\">21. Anokhi Museum of Hand Printing, Jaipur</h3>,\n",
       " <h3 id=\"Bapu-Bazar\">22. Bapu Bazar, Jaipur</h3>,\n",
       " <h3 id=\"Moti-Dungri\">23. Moti Dungri, Jaipur</h3>,\n",
       " <h3 id=\"Panna-Meena-ka-Kund\">24. Panna Meena ka Kund, Jaipur</h3>,\n",
       " <h3 id=\"Kanak-Vrindavan-Garden\">25. Kanak Vrindavan Garden, Jaipur</h3>,\n",
       " <h3 id=\"Johari-Bazaar\">26. Johari Bazaar, Jaipur</h3>,\n",
       " <h3 id=\"Elephantastic\">27. Elephantastic, Jaipur</h3>,\n",
       " <h3 id=\"1135-AD-Amer\">28. 1135 AD, Amer, Jaipur</h3>,\n",
       " <h3 id=\"Suvarna-Mahal\">29. Suvarna Mahal, Jaipur</h3>,\n",
       " <h3 id=\"Spice-Court\">30. Spice Court, Jaipur</h3>,\n",
       " <h3 id=\"World-Trade-Park\">31. World Trade Park, Jaipur</h3>,\n",
       " <h3 id=\"Amigos-Bar\">32. Amigos Bar, Jaipur</h3>,\n",
       " <h3>33. Chand Baori Stepwell, Jaipur</h3>,\n",
       " <h3>34. Ram Nivas Garden, Jaipur</h3>,\n",
       " <h3>35. Akshardham Temple, Jaipur</h3>,\n",
       " <h3>36. Amrapali Museum, Jaipur</h3>,\n",
       " <h3>37. Elefantastic Elephant Farm, Jaipur</h3>,\n",
       " <h3>38. Tripolia Bazaar, Jaipur</h3>,\n",
       " <h3>39. Raj Mandir Cinema, Jaipur</h3>,\n",
       " <h3>40. Hathni Kund, Jaipur</h3>,\n",
       " <h3 class=\"d_active tab_drawer_heading\" rel=\"tab1\">Top Places to Visit in India</h3>,\n",
       " <h3 class=\"tab_drawer_heading\" rel=\"tab2\">Hotels Near Airport</h3>,\n",
       " <h3 class=\"tab_drawer_heading\" rel=\"tab3\">Hotels Near Railway Station</h3>,\n",
       " <h3 class=\"tab_drawer_heading\" rel=\"tab4\">Budget Hotels</h3>,\n",
       " <h3 class=\"tab_drawer_heading\" rel=\"tab5\">Couple Friendly Hotels</h3>]"
      ]
     },
     "execution_count": 7,
     "metadata": {},
     "output_type": "execute_result"
    }
   ],
   "source": [
    "soup.find_all('h3')"
   ]
  },
  {
   "cell_type": "code",
   "execution_count": 8,
   "metadata": {},
   "outputs": [
    {
     "data": {
      "text/plain": [
       "['1. Amber Fort and Palace, Jaipur',\n",
       " '2. Nahargarh Fort, Jaipur',\n",
       " '3. Jaigarh Fort, Jaipur',\n",
       " '4. City Palace, Jaipur',\n",
       " '5. Hawa Mahal, Jaipur',\n",
       " '6. Jantar Mantar, Jaipur',\n",
       " '7. Jal Mahal, Jaipur',\n",
       " '8. Albert Hall Museum, Jaipur',\n",
       " '9. Rambagh Palace, Jaipur',\n",
       " '10. Sisodia Rani Ka Bagh, Jaipur',\n",
       " '11. Amar Jawan Jyoti, Jaipur',\n",
       " '12. Jaipur Zoo',\n",
       " '13. Chokhi Dhani, Jaipur',\n",
       " '14. Birla Mandir, Jaipur',\n",
       " '15. Central Park, Jaipur',\n",
       " '16. Galtaji Temple, Jaipur',\n",
       " '17. Govind Dev Ji Temple, Jaipur',\n",
       " '18. Raj Mandir Cinema, Jaipur',\n",
       " '19. Jaipur Wax Museum, Jaipur',\n",
       " '20. Dolls Museum, Jaipur',\n",
       " '21. Anokhi Museum of Hand Printing, Jaipur',\n",
       " '22. Bapu Bazar, Jaipur',\n",
       " '23. Moti Dungri, Jaipur',\n",
       " '24. Panna Meena ka Kund, Jaipur',\n",
       " '25. Kanak Vrindavan Garden, Jaipur',\n",
       " '26. Johari Bazaar, Jaipur',\n",
       " '27. Elephantastic, Jaipur',\n",
       " '28. 1135 AD, Amer, Jaipur',\n",
       " '29. Suvarna Mahal, Jaipur',\n",
       " '30. Spice Court, Jaipur',\n",
       " '31. World Trade Park, Jaipur',\n",
       " '32. Amigos Bar, Jaipur',\n",
       " '33. Chand Baori Stepwell, Jaipur',\n",
       " '34. Ram Nivas Garden, Jaipur',\n",
       " '35. Akshardham Temple, Jaipur',\n",
       " '36. Amrapali Museum, Jaipur',\n",
       " '37. Elefantastic Elephant Farm, Jaipur',\n",
       " '38. Tripolia Bazaar, Jaipur',\n",
       " '39. Raj Mandir Cinema, Jaipur',\n",
       " '40. Hathni Kund, Jaipur',\n",
       " 'Top Places to Visit in India',\n",
       " 'Hotels Near Airport',\n",
       " 'Hotels Near Railway Station',\n",
       " 'Budget Hotels',\n",
       " 'Couple Friendly Hotels']"
      ]
     },
     "execution_count": 8,
     "metadata": {},
     "output_type": "execute_result"
    }
   ],
   "source": [
    "place_names = [i.text for i in soup.find_all('h3')]\n",
    "place_names"
   ]
  },
  {
   "cell_type": "raw",
   "metadata": {},
   "source": [
    "place_names[:40]"
   ]
  },
  {
   "cell_type": "code",
   "execution_count": 10,
   "metadata": {},
   "outputs": [
    {
     "name": "stdout",
     "output_type": "stream",
     "text": [
      "['1. Amber Fort and Palace, Jaipur', '2. Nahargarh Fort, Jaipur', '3. Jaigarh Fort, Jaipur', '4. City Palace, Jaipur', '5. Hawa Mahal, Jaipur']\n"
     ]
    }
   ],
   "source": [
    "print(place_names[0:5])"
   ]
  },
  {
   "cell_type": "code",
   "execution_count": null,
   "metadata": {},
   "outputs": [],
   "source": []
  },
  {
   "cell_type": "code",
   "execution_count": null,
   "metadata": {},
   "outputs": [],
   "source": []
  }
 ],
 "metadata": {
  "kernelspec": {
   "display_name": "Python 3",
   "language": "python",
   "name": "python3"
  },
  "language_info": {
   "codemirror_mode": {
    "name": "ipython",
    "version": 3
   },
   "file_extension": ".py",
   "mimetype": "text/x-python",
   "name": "python",
   "nbconvert_exporter": "python",
   "pygments_lexer": "ipython3",
   "version": "3.8.5"
  }
 },
 "nbformat": 4,
 "nbformat_minor": 4
}
