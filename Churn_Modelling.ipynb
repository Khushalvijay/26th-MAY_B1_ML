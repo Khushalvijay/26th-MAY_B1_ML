#!/usr/bin/env python
# coding: utf-8

# In[7]:


import numpy as np
import pandas as pd
import seaborn as sns
import matplotlib.pyplot as plt
import warnings 
warnings.filterwarnings("ignore")


# In[8]:


df = pd.read_csv("Churn_Modelling.csv", index_col = "RowNumber")


# In[9]:


df.head()


# In[10]:


df.shape


# In[11]:


df.isnull().sum()


# In[12]:


df.Geography.unique()


# In[13]:


df.Gender.unique()


# In[14]:


df.Tenure.unique()


# In[15]:


df.describe()


# In[16]:


df.info()


# In[17]:


df.drop(["CustomerId","Surname"], axis = 1, inplace = True)


# In[18]:


num_var = [f for f in df.columns if df[f].dtype!='O']
num_var


# In[19]:


dis_var = [f for f in num_var if df[f].nunique() < 20]
dis_var


# In[20]:


df.Tenure.nunique()


# In[21]:


cont_var = [f for f in num_var if f not in dis_var]
cont_var


# In[22]:


cat_var = [f for f in df.columns if f not in num_var]
cat_var


# In[23]:


for var in dis_var:
    sns.countplot(df[var])
    plt.show()


# In[24]:


for var in cont_var:
    sns.distplot(df[var], kde = False, color = "green")
    plt.show()
    sns.boxplot(df[var])
    plt.show()


# In[20]:


for var in cat_var:
    sns.countplot(df[var])
    plt.show()


# In[25]:


plt.figure(figsize = (20,10))
sns.heatmap(df.corr(), annot =True)


# In[26]:


plt.figure(figsize = (20,10))
sns.pairplot(df)


# In[27]:


exited_yes = df[df["Exited"]==1]
exited_no = df[df["Exited"]==0]


# In[28]:


print(exited_yes.shape,exited_no.shape)


# In[29]:


x = df.drop(["Exited"], axis = 1)
y = df["Exited"]


# In[30]:


x.head()
y.head()


# In[31]:


cat_1 = pd.get_dummies(df["Geography"], drop_first = True)
cat_2 = pd.get_dummies(df["Gender"], drop_first = True)


# In[32]:


x.head()


# In[33]:


x_t = pd.concat([x,cat_1],axis=1)
x_t_f = pd.concat([x_t,cat_2],axis = 1)
x_t_f.head()


# In[34]:


x_t_f = x_t_f.drop(["Geography","Gender"],axis =1)


# In[35]:


x_t_f.head()


# In[36]:


y.head()


# In[37]:


from imblearn.over_sampling import SMOTE
oversample = SMOTE(k_neighbors=4)
x_res, y_res = oversample.fit_resample(x_t_f, y)


# In[38]:


print(x_res.shape,y_res.shape)


# In[39]:


from sklearn.preprocessing import StandardScaler
scalar = StandardScaler()


# In[40]:


x_res = scalar.fit_transform(x_res)


# In[41]:


from sklearn.model_selection import train_test_split


# In[42]:


x_train,x_test,y_train,y_test = train_test_split(x_res,y_res,test_size = 0.25)


# In[43]:


params={
 "learning_rate"    : [0.05, 0.10, 0.15, 0.20, 0.25, 0.30 ] ,
 "max_depth"        : [ 3, 4, 5, 6, 8, 10, 12, 15],
 "min_child_weight" : [ 1, 3, 5, 7 ],
 "gamma"            : [ 0.0, 0.1, 0.2 , 0.3, 0.4 ],
 "colsample_bytree" : [ 0.3, 0.4, 0.5 , 0.7 ]
    
}


# In[56]:


from sklearn.model_selection import GridSearchCV, RandomizedSearchCV
from xgboost import XGBClassifier


# In[51]:


classifier = XGBClassifier()


# In[52]:


random_search=RandomizedSearchCV(classifier,param_distributions=params,n_iter=5,scoring='roc_auc',n_jobs=-1,cv=5,verbose=3)
random_search.fit(x_train,y_train)


# In[53]:


random_search.best_estimator_


# In[57]:


from xgboost import XGBClassifier
from catboost import CatBoostClassifier
clf1 = XGBClassifier(base_score=0.5, booster='gbtree', colsample_bylevel=1,
              colsample_bynode=1, colsample_bytree=0.5, gamma=0.1, gpu_id=-1,
              importance_type='gain', interaction_constraints='',
              learning_rate=0.2, max_delta_step=0, max_depth=8,
              min_child_weight=3, monotone_constraints='()',
              n_estimators=100, n_jobs=4, num_parallel_tree=1, random_state=0,
              reg_alpha=0, reg_lambda=1, scale_pos_weight=1, subsample=1,
              tree_method='exact', validate_parameters=1, verbosity=None)


# In[59]:


clf1.fit(x_train,y_train)
print(clf1.score(x_test,y_test)*100)


# In[ ]:




