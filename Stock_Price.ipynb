#!/usr/bin/env python
# coding: utf-8

# In[1]:


import numpy as np 
import pandas as pd
import matplotlib.pyplot as plt
import seaborn as sns
from subprocess import check_output
import warnings
warnings.filterwarnings("ignore")


# In[2]:


data_frame = pd.read_csv('stock_data.csv')


# In[3]:


data_frame.head()


# In[4]:


data_frame.tail()


# In[5]:


data_frame.shape


# In[6]:


list(data_frame)


# In[7]:


data_frame.columns


# In[8]:


data_frame.isnull().any()


# In[9]:


data_frame.isnull().sum()


# In[10]:


data_frame.describe()


# In[11]:


data_frame.info()


# In[12]:


data_frame.describe(include = "all").T


# In[13]:


data_frame['Date'] = pd.to_datetime(data_frame['Date'])


# In[14]:


print(f'Dataframe comtains stock prices between {data_frame.Date.min()} {data_frame.Date.max()}')
print(f'Total days = {(data_frame.Date.max() - data_frame.Date.min()).days}days')


# In[15]:


len(data_frame)-len(data_frame.drop_duplicates())


# In[16]:


data_frame["Change"] = data_frame["Close"] - data_frame["Open"]
df_interest = data_frame[["Stock", "Date", "Open", "Close", "Change", "Volume"]]
df_interest["Date"] = pd.to_datetime(df_interest["Date"])
df_interest.head()


# In[17]:


symbolCloseWide = data_frame.pivot(index='Stock',columns='Date',values='Close')


# In[18]:


symbolCloseWide.head()


# In[19]:


symbols = df_interest["Stock"].unique().tolist()
for u in symbols[:10]:
    dates = df_interest[(df_interest["Stock"] == u)]["Date"]
    values = df_interest[(df_interest["Stock"] == u)]["Close"]
    plt.plot(dates.tolist(), values.tolist())
plt.legend(symbols, loc='upper left')
plt.show()


# In[20]:


data_frame.corr()


# In[21]:


plt.figure(figsize=(12,6))
autoDataColumns = ['Open','High','Low','Close','Volume']
sns.heatmap(data_frame[autoDataColumns].corr(), annot=True, fmt='.6f', linewidths=.5)


# In[22]:


latest_year = max(pd.unique(list(df_interest["Date"].apply(lambda x:x.year))))
latest_year_mask = [i==latest_year for i in df_interest["Date"].apply(lambda x:x.year)]
df_masked1 = df_interest[latest_year_mask]
df_masked1.head()


# In[23]:


symbols = df_interest["Stock"].unique().tolist()
maxPerSymbol={}
for u in symbols:
    values = df_interest[(df_interest["Stock"] == u)]["Close"].tolist()
    maxPerSymbol[u] = max(values)

top10Closers = list(dict(sorted(maxPerSymbol.items(), 
                   key=lambda v:v[1], #sort by key -> v[0] | sort by value->v[1]
                   reverse=True)[:10]).keys())

top_10_mask = [i in top10Closers for i in df_masked1["Stock"].tolist()]
df_masked2 = df_masked1[top_10_mask]
df_masked2.head()


# In[25]:


symbols = df_masked2["Stock"].unique().tolist()
for u in symbols[:10]:
    dates = df_masked2[(df_interest["Stock"] == u)]["Date"]
    values = df_masked2[(df_interest["Stock"] == u)]["Close"]
    plt.plot(dates.tolist(), values.tolist())
#plt.legend(symbols, loc='upper left')
plt.legend(symbols, bbox_to_anchor=(1.05, 1), loc=2, borderaxespad=0.)
plt.title(r'TOP 10 CLOSING STOCKS', fontsize=16)

plt.xlabel('TIME (years)', fontsize=12)
plt.ylabel('PRICE ($/stock)', fontsize=12)
plt.show()


# In[ ]:




