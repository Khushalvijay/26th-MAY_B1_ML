#!/usr/bin/env python
# coding: utf-8

# In[66]:


import numpy as np 
import pandas as pd 
import matplotlib.pyplot as plt
import seaborn as sns
import graphviz


# In[4]:


df = pd.read_csv("weather delhi.csv")


# In[5]:


df.head()


# In[6]:


df.columns


# In[7]:


df.columns = map(lambda x: x.strip(), df.columns)


# In[8]:


df.columns


# In[9]:


df._conds.value_counts


# In[10]:


plt.figure(figsize=(15, 10));
df._conds.value_counts().head(10).plot(kind='bar');
plt.title("Top 10 most common weather condition")
plt.plot();


# In[11]:


plt.figure(figsize=(15, 10));
df._conds.value_counts(ascending=True).head(10).plot(kind="bar");
plt.title("Top 10 least whether condition in delhi");
plt.plot();


# In[12]:


df._wdire.value_counts()


# In[13]:


plt.figure(figsize=(15, 10));
plt.title("Common wind direction in delhi");
df._wdire.value_counts().plot(kind="bar");
plt.plot();


# In[14]:


print("average temprature in delhi:", round(df._tempm.mean(axis=0),2))


# In[15]:


def extract_year(value):
    return (value[0:4])


# In[16]:


df.head()


# In[17]:


def extract_month(value):
    return (value[4:6])


# In[18]:


df["year"] = df["datetime_utc"].apply(lambda x:extract_year(x))
df["month"] = df["datetime_utc"].apply(lambda x:extract_month(x))


# In[19]:


df.head()


# In[20]:


print("max, min: ", df.year.max(), ",", df.year.min())


# In[21]:


df.year.value_counts()


# In[22]:


df.groupby("year")._tempm.mean()


# In[23]:


df_mean = df.groupby("year")._tempm.mean().reset_index().sort_values('_tempm', ascending=True)


# In[24]:


df_mean.dtypes


# In[25]:


df_mean.year = df_mean.year.astype("float")


# In[26]:


df_mean.dtypes


# In[27]:


df_mean.plot(kind="scatter", x="year", y="_tempm", figsize=(15, 10))

plt.xticks(df_mean.year);
plt.title("Average temprature change");
plt.plot();


# In[28]:


df.isnull().sum()


# In[29]:


df.columns


# In[30]:


df_filtered = df[['datetime_utc', '_conds', '_dewptm', '_fog', '_hail',
       '_hum', '_pressurem', '_rain', '_snow', '_tempm',
       '_thunder', '_tornado', '_vism', '_wdird', '_wdire'
       , '_wspdm', 'year', "month"]]


# In[31]:


df_filtered[df_filtered._dewptm.isnull()]


# In[32]:


for index,row in df_filtered[df_filtered._dewptm.isnull()].iterrows():
    mean_val = df_filtered[df_filtered["year"] == row["year"]]._dewptm.mean()
    df_filtered.at[index, "_dewptm"] = mean_val
    


# In[33]:


df_filtered[df_filtered._dewptm.isnull()]


# In[34]:


df_filtered.shape


# In[35]:


df_filtered.isnull().sum()


# In[36]:


df_filtered[df_filtered._hum.isnull()]


# In[37]:


for index,row in df_filtered[df_filtered._hum.isnull()].iterrows():
    mean_val = df_filtered[df_filtered["year"] == row["year"]]._hum.mean()
    df_filtered.at[index, "_hum"] = mean_val


# In[38]:


df_filtered[df_filtered._hum.isnull()]


# In[39]:


df_filtered.isnull().sum()


# In[40]:


df_filtered[df_filtered._pressurem.isnull()]


# In[41]:


df_filtered.head()


# In[43]:


df_filtered.head()


# In[44]:


df_filtered._pressurem.isnull().sum()


# In[45]:


for index,row in df_filtered[df_filtered._pressurem.isnull()].iterrows():
    mean_val = df_filtered[df_filtered["year"] == row["year"]]._pressurem.mean()
    df_filtered.at[index, "_pressurem"] = mean_val


# In[46]:


df_filtered.isnull().sum()


# In[59]:


for index,row in df_filtered[df_filtered._tempm.isnull()].iterrows():
    mean_val = df_filtered[df_filtered["year"] == row["year"]]._tempm.mean()
    df_filtered.at[index, "_tempm"] = mean_val
    


# In[60]:


for index,row in df_filtered[df_filtered._vism.isnull()].iterrows():
    mean_val = df_filtered[df_filtered["year"] == row["year"]]._vism.mean()
    df_filtered.at[index, "_vism"] = mean_val


# In[61]:


for index,row in df_filtered[df_filtered._wdird.isnull()].iterrows():
    mean_val = df_filtered[df_filtered["year"] == row["year"]]._wdird.mean()
    df_filtered.at[index, "_wdird"] = mean_val


# In[62]:


for index,row in df_filtered[df_filtered._wspdm.isnull()].iterrows():
    mean_val = df_filtered[df_filtered["year"] == row["year"]]._wspdm.mean()
    df_filtered.at[index, "_wspdm"] = mean_val


# In[63]:


df_filtered.isnull().sum()


# In[64]:


for index,row in df_filtered[df_filtered._wdire.isnull()].iterrows():
    most_frequent = df_filtered[df_filtered["year"] == row["year"]]._wdire.value_counts().idxmax()
    df_filtered.at[index, "_wdire"] = most_frequent


# In[65]:


df_filtered.isnull().sum()


# In[67]:


for index,row in df_filtered[df_filtered._conds.isnull()].iterrows():
    most_frequent = df_filtered[df_filtered["year"] == row["year"]]._conds.value_counts().idxmax()
    df_filtered.at[index, "_conds"] = most_frequent


# In[68]:


df_filtered.isnull().sum()


# In[70]:


df_filtered.dtypes


# In[71]:


pd.crosstab(df_filtered.year, [df_filtered.month], values=df_filtered._tempm, aggfunc="mean")


# In[72]:


plt.figure(figsize=(15, 10));
sns.heatmap(pd.crosstab(df_filtered.year, [df_filtered.month], values=df_filtered._tempm, aggfunc="mean"),
            cmap="coolwarm", annot=True, cbar=True);
plt.title("Average Temprature 1996-2016")
plt.plot();


# In[73]:


df_filtered._conds.value_counts()


# In[74]:


from sklearn.preprocessing import LabelEncoder, OneHotEncoder


# In[75]:


df_filtered.columns


# In[76]:


feature_columns = ['_wdire', '_dewptm', '_fog', '_hail', '_hum',
       '_pressurem', '_rain', '_snow', '_tempm', '_thunder', '_tornado',
       '_vism', '_wdird', '_wspdm', 'year', 'month', '_conds']


# In[77]:


df_final = df_filtered[feature_columns]


# In[78]:


df_final.head()


# In[79]:


df_final.dtypes


# In[80]:


df_final._wdire.value_counts()


# In[81]:


wdire_dummies = pd.get_dummies(df_final["_wdire"])


# In[82]:


df_final = pd.concat([wdire_dummies, df_final], axis=1)


# In[83]:


df_final.head()


# In[84]:


df_final.columns


# In[85]:


df_final.drop("_wdire", inplace=True, axis=1)


# In[86]:


df_final.columns


# In[87]:


X = df_final.iloc[:, 0:-1].values
X.shape


# In[88]:


y = df_final.iloc[:, -1].values


# In[89]:


label_encoder = LabelEncoder()


# In[90]:


y = label_encoder.fit_transform(y)


# In[91]:


y.shape


# In[92]:


from sklearn.model_selection import train_test_split


# In[93]:


X_train, X_test, y_train, y_test = train_test_split(X, y, test_size=.25, random_state=0)


# In[94]:


print("Shape of X_train", X_train.shape)
print("Shape of X_test", X_test.shape)
print("Shape of y_train", y_train.shape)
print("Shape of y_test", y_test.shape)


# In[95]:


from sklearn.tree import DecisionTreeClassifier


# In[96]:


clf = DecisionTreeClassifier(criterion="entropy", random_state=0)


# In[97]:


clf.fit(X_train, y_train)


# In[98]:


y_pred = clf.predict(X_test)


# In[99]:


y_pred


# In[100]:


from sklearn import metrics
import matplotlib.pyplot as plt
print("DecisionTrees's Accuracy: ", metrics.accuracy_score(y_test, y_pred))


# In[ ]:




